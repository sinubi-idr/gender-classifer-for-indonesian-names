{
 "cells": [
  {
   "cell_type": "code",
   "execution_count": 1,
   "id": "monetary-makeup",
   "metadata": {},
   "outputs": [],
   "source": [
    "# Project Name : Gender Classifier for Indonesian Names\n",
    "# Author : Sinubi\n",
    "# https://github.com/sinubi-idr/gender-classifer-for-indonesian-names\n",
    "\n",
    "# c2ludWJpIC0gZ2VuZGVyIGNsYXNzaWZpZXIgZm9yIGluZG9uZXNpYW4gbmFtZXM=\n",
    "# RGlwdWJsaWthc2lrYW4gb2xlaCBTaW51YmkgcGFkYSBPa3RvYmVyIDIwMjE="
   ]
  },
  {
   "cell_type": "markdown",
   "id": "representative-amsterdam",
   "metadata": {},
   "source": [
    "<h3> Pustaka </h3>"
   ]
  },
  {
   "cell_type": "code",
   "execution_count": 2,
   "id": "fitting-adolescent",
   "metadata": {},
   "outputs": [],
   "source": [
    "import pandas as pd\n",
    "import numpy as np\n",
    "from nubi_genderClassifierByName import *"
   ]
  },
  {
   "cell_type": "markdown",
   "id": "flying-shelter",
   "metadata": {},
   "source": [
    "<h3> Setup </h3>"
   ]
  },
  {
   "cell_type": "code",
   "execution_count": 3,
   "id": "revised-guatemala",
   "metadata": {},
   "outputs": [],
   "source": [
    "# Setup\n",
    "nubi_stuff = setup()"
   ]
  },
  {
   "cell_type": "markdown",
   "id": "common-soldier",
   "metadata": {},
   "source": [
    "<h3> Prediksi untuk Satu Nama </h3>"
   ]
  },
  {
   "cell_type": "code",
   "execution_count": 4,
   "id": "bridal-zoning",
   "metadata": {},
   "outputs": [
    {
     "name": "stdout",
     "output_type": "stream",
     "text": [
      "pria\n"
     ]
    }
   ],
   "source": [
    "nama = \"tono\"\n",
    "prediksi = predict_string(nubi_stuff,nama)\n",
    "print(prediksi)"
   ]
  },
  {
   "cell_type": "markdown",
   "id": "seasonal-drove",
   "metadata": {},
   "source": [
    "<h3> Prediksi untuk Kolom Nama pada DataFrame </h3>"
   ]
  },
  {
   "cell_type": "code",
   "execution_count": 5,
   "id": "spoken-belfast",
   "metadata": {},
   "outputs": [
    {
     "data": {
      "text/html": [
       "<div>\n",
       "<style scoped>\n",
       "    .dataframe tbody tr th:only-of-type {\n",
       "        vertical-align: middle;\n",
       "    }\n",
       "\n",
       "    .dataframe tbody tr th {\n",
       "        vertical-align: top;\n",
       "    }\n",
       "\n",
       "    .dataframe thead th {\n",
       "        text-align: right;\n",
       "    }\n",
       "</style>\n",
       "<table border=\"1\" class=\"dataframe\">\n",
       "  <thead>\n",
       "    <tr style=\"text-align: right;\">\n",
       "      <th></th>\n",
       "      <th>nama</th>\n",
       "      <th>umur</th>\n",
       "    </tr>\n",
       "  </thead>\n",
       "  <tbody>\n",
       "    <tr>\n",
       "      <th>0</th>\n",
       "      <td>tono</td>\n",
       "      <td>20</td>\n",
       "    </tr>\n",
       "    <tr>\n",
       "      <th>1</th>\n",
       "      <td>budi</td>\n",
       "      <td>25</td>\n",
       "    </tr>\n",
       "    <tr>\n",
       "      <th>2</th>\n",
       "      <td>putra</td>\n",
       "      <td>22</td>\n",
       "    </tr>\n",
       "    <tr>\n",
       "      <th>3</th>\n",
       "      <td>ayu</td>\n",
       "      <td>19</td>\n",
       "    </tr>\n",
       "    <tr>\n",
       "      <th>4</th>\n",
       "      <td>bunga</td>\n",
       "      <td>27</td>\n",
       "    </tr>\n",
       "    <tr>\n",
       "      <th>5</th>\n",
       "      <td>putri</td>\n",
       "      <td>24</td>\n",
       "    </tr>\n",
       "  </tbody>\n",
       "</table>\n",
       "</div>"
      ],
      "text/plain": [
       "    nama  umur\n",
       "0   tono    20\n",
       "1   budi    25\n",
       "2  putra    22\n",
       "3    ayu    19\n",
       "4  bunga    27\n",
       "5  putri    24"
      ]
     },
     "execution_count": 5,
     "metadata": {},
     "output_type": "execute_result"
    }
   ],
   "source": [
    "# Buat dan Muat Data\n",
    "data = pd.DataFrame({'nama':['tono','budi','putra','ayu','bunga','putri'],\n",
    "                     'umur':[20,25,22,19,27,24]})\n",
    "data"
   ]
  },
  {
   "cell_type": "code",
   "execution_count": 6,
   "id": "dynamic-finder",
   "metadata": {},
   "outputs": [
    {
     "data": {
      "text/html": [
       "<div>\n",
       "<style scoped>\n",
       "    .dataframe tbody tr th:only-of-type {\n",
       "        vertical-align: middle;\n",
       "    }\n",
       "\n",
       "    .dataframe tbody tr th {\n",
       "        vertical-align: top;\n",
       "    }\n",
       "\n",
       "    .dataframe thead th {\n",
       "        text-align: right;\n",
       "    }\n",
       "</style>\n",
       "<table border=\"1\" class=\"dataframe\">\n",
       "  <thead>\n",
       "    <tr style=\"text-align: right;\">\n",
       "      <th></th>\n",
       "      <th>nama</th>\n",
       "      <th>umur</th>\n",
       "      <th>prediksi_jenis_kelamin</th>\n",
       "    </tr>\n",
       "  </thead>\n",
       "  <tbody>\n",
       "    <tr>\n",
       "      <th>0</th>\n",
       "      <td>tono</td>\n",
       "      <td>20</td>\n",
       "      <td>pria</td>\n",
       "    </tr>\n",
       "    <tr>\n",
       "      <th>1</th>\n",
       "      <td>budi</td>\n",
       "      <td>25</td>\n",
       "      <td>pria</td>\n",
       "    </tr>\n",
       "    <tr>\n",
       "      <th>2</th>\n",
       "      <td>putra</td>\n",
       "      <td>22</td>\n",
       "      <td>pria</td>\n",
       "    </tr>\n",
       "    <tr>\n",
       "      <th>3</th>\n",
       "      <td>ayu</td>\n",
       "      <td>19</td>\n",
       "      <td>wanita</td>\n",
       "    </tr>\n",
       "    <tr>\n",
       "      <th>4</th>\n",
       "      <td>bunga</td>\n",
       "      <td>27</td>\n",
       "      <td>wanita</td>\n",
       "    </tr>\n",
       "    <tr>\n",
       "      <th>5</th>\n",
       "      <td>putri</td>\n",
       "      <td>24</td>\n",
       "      <td>wanita</td>\n",
       "    </tr>\n",
       "  </tbody>\n",
       "</table>\n",
       "</div>"
      ],
      "text/plain": [
       "    nama  umur prediksi_jenis_kelamin\n",
       "0   tono    20                   pria\n",
       "1   budi    25                   pria\n",
       "2  putra    22                   pria\n",
       "3    ayu    19                 wanita\n",
       "4  bunga    27                 wanita\n",
       "5  putri    24                 wanita"
      ]
     },
     "execution_count": 6,
     "metadata": {},
     "output_type": "execute_result"
    }
   ],
   "source": [
    "# Prediksi\n",
    "data[\"prediksi_jenis_kelamin\"] = predict_dfColumn(nubi_stuff,data[\"nama\"])\n",
    "data"
   ]
  }
 ],
 "metadata": {
  "kernelspec": {
   "display_name": "tf_env",
   "language": "python",
   "name": "tf_env"
  },
  "language_info": {
   "codemirror_mode": {
    "name": "ipython",
    "version": 3
   },
   "file_extension": ".py",
   "mimetype": "text/x-python",
   "name": "python",
   "nbconvert_exporter": "python",
   "pygments_lexer": "ipython3",
   "version": "3.8.5"
  }
 },
 "nbformat": 4,
 "nbformat_minor": 5
}
