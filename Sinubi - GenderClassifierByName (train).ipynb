{
 "cells": [
  {
   "cell_type": "code",
   "execution_count": 1,
   "id": "minor-gardening",
   "metadata": {},
   "outputs": [],
   "source": [
    "# Project Name : Gender Classifier for Indonesian Names\n",
    "# Author : Sinubi\n",
    "# https://github.com/sinubi-idr/gender-classifer-for-indonesian-names\n",
    "\n",
    "# c2ludWJpIC0gZ2VuZGVyIGNsYXNzaWZpZXIgZm9yIGluZG9uZXNpYW4gbmFtZXM=\n",
    "# RGlwdWJsaWthc2lrYW4gb2xlaCBTaW51YmkgcGFkYSBPa3RvYmVyIDIwMjE="
   ]
  },
  {
   "cell_type": "markdown",
   "id": "drawn-settle",
   "metadata": {},
   "source": [
    "<h3> Libraries </h3>"
   ]
  },
  {
   "cell_type": "code",
   "execution_count": 2,
   "id": "moving-shade",
   "metadata": {},
   "outputs": [],
   "source": [
    "import pandas as pd\n",
    "import numpy as np\n",
    "import seaborn as sns\n",
    "import pickle\n",
    "\n",
    "from sklearn.feature_extraction.text import CountVectorizer\n",
    "from sklearn.linear_model import LogisticRegression\n",
    "from sklearn import metrics"
   ]
  },
  {
   "cell_type": "markdown",
   "id": "therapeutic-amendment",
   "metadata": {},
   "source": [
    "<h3> Load Data and Data Processing </h3>"
   ]
  },
  {
   "cell_type": "code",
   "execution_count": 3,
   "id": "optimum-closer",
   "metadata": {},
   "outputs": [],
   "source": [
    "# Load Data\n",
    "file_path   = './Daftar Seniman Indonesia (Wikipedia).xlsx'\n",
    "nama_pria   = pd.read_excel(file_path, sheet_name='Aktor') \n",
    "nama_wanita = pd.read_excel(file_path, sheet_name='Aktris') "
   ]
  },
  {
   "cell_type": "code",
   "execution_count": 4,
   "id": "timely-sherman",
   "metadata": {},
   "outputs": [],
   "source": [
    "# Add 'Gender' Column\n",
    "nama_pria['jenis_kelamin']   = \"pria\"\n",
    "nama_wanita['jenis_kelamin'] = \"wanita\""
   ]
  },
  {
   "cell_type": "code",
   "execution_count": 5,
   "id": "rough-hampshire",
   "metadata": {},
   "outputs": [],
   "source": [
    "# Renaming 'Name' Column\n",
    "nama_pria.rename(columns={'Daftar_Aktor': 'nama'}, inplace=True)\n",
    "nama_wanita.rename(columns={'Daftar_Aktris': 'nama'}, inplace=True)"
   ]
  },
  {
   "cell_type": "code",
   "execution_count": 6,
   "id": "republican-peace",
   "metadata": {},
   "outputs": [],
   "source": [
    "# Compiling Data\n",
    "data = nama_pria.copy()\n",
    "data = data.append(nama_wanita)"
   ]
  },
  {
   "cell_type": "code",
   "execution_count": 7,
   "id": "drawn-mercury",
   "metadata": {},
   "outputs": [
    {
     "name": "stderr",
     "output_type": "stream",
     "text": [
      "<ipython-input-7-a979f5b8bd68>:2: FutureWarning: The default value of regex will change from True to False in a future version.\n",
      "  data[\"nama_cleaned\"] = data[\"nama\"].str.replace('[!\"#$%&\\'()*+,-./:;<=>?@[\\\\]^_`{|}~]','')\n"
     ]
    }
   ],
   "source": [
    "# Removing Punctuation\n",
    "data[\"nama_cleaned\"] = data[\"nama\"].str.replace('[!\"#$%&\\'()*+,-./:;<=>?@[\\\\]^_`{|}~]','')"
   ]
  },
  {
   "cell_type": "code",
   "execution_count": 8,
   "id": "illegal-function",
   "metadata": {},
   "outputs": [
    {
     "name": "stderr",
     "output_type": "stream",
     "text": [
      "<ipython-input-8-7bd7f4ee01e4>:2: FutureWarning: The default value of regex will change from True to False in a future version.\n",
      "  data[\"nama_cleaned\"] = data[\"nama_cleaned\"].str.replace('\\d+', '')\n"
     ]
    }
   ],
   "source": [
    "# Removing Numbers\n",
    "data[\"nama_cleaned\"] = data[\"nama_cleaned\"].str.replace('\\d+', '')"
   ]
  },
  {
   "cell_type": "code",
   "execution_count": 9,
   "id": "ambient-shelf",
   "metadata": {},
   "outputs": [],
   "source": [
    "# Convert Name into lowercase\n",
    "data[\"nama_cleaned\"] = data[\"nama_cleaned\"].str.lower()"
   ]
  },
  {
   "cell_type": "markdown",
   "id": "finite-federal",
   "metadata": {},
   "source": [
    "<h3> Feature Engineering </h3>"
   ]
  },
  {
   "cell_type": "code",
   "execution_count": 10,
   "id": "institutional-china",
   "metadata": {},
   "outputs": [],
   "source": [
    "# Create Matrix of Character N-Gram\n",
    "vectorizer = CountVectorizer(analyzer = 'char_wb', ngram_range=(2,6))\n",
    "vectorizer.fit(data[\"nama_cleaned\"])\n",
    "\n",
    "x_train = vectorizer.transform(data[\"nama_cleaned\"])"
   ]
  },
  {
   "cell_type": "code",
   "execution_count": 11,
   "id": "found-shelf",
   "metadata": {},
   "outputs": [],
   "source": [
    "# Target Variable Encoding\n",
    "y_train = np.where(data['jenis_kelamin'] == \"pria\", 1, 0)"
   ]
  },
  {
   "cell_type": "markdown",
   "id": "banner-punishment",
   "metadata": {},
   "source": [
    "<h3> Modelling </h3>"
   ]
  },
  {
   "cell_type": "code",
   "execution_count": 12,
   "id": "funded-batch",
   "metadata": {},
   "outputs": [
    {
     "data": {
      "text/plain": [
       "LogisticRegression()"
      ]
     },
     "execution_count": 12,
     "metadata": {},
     "output_type": "execute_result"
    }
   ],
   "source": [
    "model = LogisticRegression()\n",
    "model.fit(x_train, y_train)"
   ]
  },
  {
   "cell_type": "markdown",
   "id": "particular-insurance",
   "metadata": {},
   "source": [
    "<h3> Prediction </h3>"
   ]
  },
  {
   "cell_type": "code",
   "execution_count": 13,
   "id": "affected-walnut",
   "metadata": {},
   "outputs": [
    {
     "name": "stdout",
     "output_type": "stream",
     "text": [
      "Accuracy: 1.0000\n",
      "[[886   0]\n",
      " [  0 931]]\n",
      "\n",
      "Classification Report\n",
      "              precision    recall  f1-score   support\n",
      "\n",
      "           1       1.00      1.00      1.00       886\n",
      "           0       1.00      1.00      1.00       931\n",
      "\n",
      "    accuracy                           1.00      1817\n",
      "   macro avg       1.00      1.00      1.00      1817\n",
      "weighted avg       1.00      1.00      1.00      1817\n",
      "\n"
     ]
    }
   ],
   "source": [
    "# Prediction and Metrics (Train)\n",
    "pred_train = model.predict(x_train)\n",
    "\n",
    "print(\"Accuracy: {0:.4f}\".format(metrics.accuracy_score(y_train, pred_train)))\n",
    "print(metrics.confusion_matrix(y_train, pred_train, labels=[1, 0]) )\n",
    "print(\"\")\n",
    "print(\"Classification Report\")\n",
    "print(metrics.classification_report(y_train, pred_train, labels=[1,0]))"
   ]
  },
  {
   "cell_type": "code",
   "execution_count": 14,
   "id": "stuck-calcium",
   "metadata": {},
   "outputs": [
    {
     "name": "stdout",
     "output_type": "stream",
     "text": [
      "pria\n"
     ]
    }
   ],
   "source": [
    "# Prediction (Test)\n",
    "\n",
    "jenis_kelamin_label = {1:\"pria\", 0:\"wanita\"}\n",
    "\n",
    "nama_test = \"sinubi\" # change this !\n",
    "\n",
    "x_test = vectorizer.transform([nama_test])\n",
    "pred_test = model.predict(x_test)\n",
    "\n",
    "print(jenis_kelamin_label[int(pred_test)])"
   ]
  },
  {
   "cell_type": "code",
   "execution_count": null,
   "id": "fifth-prevention",
   "metadata": {},
   "outputs": [],
   "source": []
  }
 ],
 "metadata": {
  "kernelspec": {
   "display_name": "tf_env",
   "language": "python",
   "name": "tf_env"
  },
  "language_info": {
   "codemirror_mode": {
    "name": "ipython",
    "version": 3
   },
   "file_extension": ".py",
   "mimetype": "text/x-python",
   "name": "python",
   "nbconvert_exporter": "python",
   "pygments_lexer": "ipython3",
   "version": "3.8.5"
  }
 },
 "nbformat": 4,
 "nbformat_minor": 5
}
